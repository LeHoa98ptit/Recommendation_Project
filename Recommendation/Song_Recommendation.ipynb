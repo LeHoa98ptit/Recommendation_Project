{
 "cells": [
  {
   "cell_type": "markdown",
   "id": "4cbe2bba-7ff2-4b03-9714-e0e16727e7a4",
   "metadata": {},
   "source": [
    "## Machine Learning Application\n",
    "### Mini-project: Song Recommendation \n",
    "#### Member: \n",
    "    - Tran Hai Linh\n",
    "    - Le Thi Hoa \n",
    "    - Myrfa \n",
    "\n",
    "## Import required libraries\n",
    "            "
   ]
  },
  {
   "cell_type": "code",
   "execution_count": 2,
   "id": "11146bd9-52e7-4e78-a3a0-8a94e5b714ee",
   "metadata": {},
   "outputs": [],
   "source": [
    "#Essential libraries for data representation\n",
    "import pandas as pd\n",
    "import numpy as np\n",
    "\n",
    "#Display and plotting libraries\n",
    "from IPython.display import display\n",
    "import seaborn as sns\n",
    "import matplotlib.pyplot as plt\n",
    "\n",
    "#Statistics libraries\n",
    "from scipy import stats\n",
    "from collections import Counter\n",
    "\n",
    "#ML Libraries\n",
    "from sklearn.model_selection import train_test_split\n",
    "from sklearn.model_selection import GridSearchCV\n",
    "from sklearn.preprocessing import StandardScaler\n",
    "from sklearn.linear_model import LogisticRegression\n",
    "from sklearn.metrics import classification_report\n",
    "from sklearn.metrics import confusion_matrix\n",
    "from sklearn.tree import DecisionTreeClassifier\n",
    "from sklearn.ensemble import RandomForestClassifier\n",
    "from sklearn.metrics import accuracy_score, precision_score, recall_score, f1_score\n",
    "from sklearn.preprocessing import OneHotEncoder\n",
    "from sklearn.utils import shuffle\n",
    "\n",
    "# For dimension reduction\n",
    "from sklearn.manifold import TSNE\n",
    "from sklearn.manifold import Isomap\n",
    "from sklearn.decomposition import PCA\n",
    "\n",
    "#DNN libraries\n",
    "import tensorflow as tf\n",
    "from tensorflow.keras.models import Sequential\n",
    "\n",
    "import warnings\n",
    "warnings.filterwarnings(\"ignore\")"
   ]
  },
  {
   "cell_type": "markdown",
   "id": "284da1a6-2bf9-4320-ad46-9e029c2f5586",
   "metadata": {},
   "source": [
    "## Read data from csv file\n",
    "- display 5 first rows and 5 bottom rows"
   ]
  },
  {
   "cell_type": "code",
   "execution_count": 3,
   "id": "102d74ec-78fe-4fe3-90df-8b3d597cb4fc",
   "metadata": {},
   "outputs": [
    {
     "data": {
      "text/html": [
       "<div>\n",
       "<style scoped>\n",
       "    .dataframe tbody tr th:only-of-type {\n",
       "        vertical-align: middle;\n",
       "    }\n",
       "\n",
       "    .dataframe tbody tr th {\n",
       "        vertical-align: top;\n",
       "    }\n",
       "\n",
       "    .dataframe thead th {\n",
       "        text-align: right;\n",
       "    }\n",
       "</style>\n",
       "<table border=\"1\" class=\"dataframe\">\n",
       "  <thead>\n",
       "    <tr style=\"text-align: right;\">\n",
       "      <th></th>\n",
       "      <th>user</th>\n",
       "      <th>song</th>\n",
       "      <th>play_count</th>\n",
       "      <th>title</th>\n",
       "      <th>release</th>\n",
       "      <th>artist_name</th>\n",
       "      <th>year</th>\n",
       "    </tr>\n",
       "  </thead>\n",
       "  <tbody>\n",
       "    <tr>\n",
       "      <th>0</th>\n",
       "      <td>b80344d063b5ccb3212f76538f3d9e43d87dca9e</td>\n",
       "      <td>SOAKIMP12A8C130995</td>\n",
       "      <td>1</td>\n",
       "      <td>The Cove</td>\n",
       "      <td>Thicker Than Water</td>\n",
       "      <td>Jack Johnson</td>\n",
       "      <td>0</td>\n",
       "    </tr>\n",
       "    <tr>\n",
       "      <th>1</th>\n",
       "      <td>b80344d063b5ccb3212f76538f3d9e43d87dca9e</td>\n",
       "      <td>SOAPDEY12A81C210A9</td>\n",
       "      <td>1</td>\n",
       "      <td>Nothing from Nothing</td>\n",
       "      <td>To Die For</td>\n",
       "      <td>Billy Preston</td>\n",
       "      <td>1974</td>\n",
       "    </tr>\n",
       "    <tr>\n",
       "      <th>2</th>\n",
       "      <td>b80344d063b5ccb3212f76538f3d9e43d87dca9e</td>\n",
       "      <td>SOBBMDR12A8C13253B</td>\n",
       "      <td>2</td>\n",
       "      <td>Entre Dos Aguas</td>\n",
       "      <td>Flamenco Para Niños</td>\n",
       "      <td>Paco De Lucia</td>\n",
       "      <td>1976</td>\n",
       "    </tr>\n",
       "    <tr>\n",
       "      <th>3</th>\n",
       "      <td>b80344d063b5ccb3212f76538f3d9e43d87dca9e</td>\n",
       "      <td>SOBFNSP12AF72A0E22</td>\n",
       "      <td>1</td>\n",
       "      <td>Under Cold Blue Stars</td>\n",
       "      <td>Under Cold Blue Stars</td>\n",
       "      <td>Josh Rouse</td>\n",
       "      <td>2002</td>\n",
       "    </tr>\n",
       "    <tr>\n",
       "      <th>4</th>\n",
       "      <td>b80344d063b5ccb3212f76538f3d9e43d87dca9e</td>\n",
       "      <td>SOBFOVM12A58A7D494</td>\n",
       "      <td>1</td>\n",
       "      <td>Riot Radio (Soundtrack Version)</td>\n",
       "      <td>Nick &amp; Norah's Infinite Playlist - Original Mo...</td>\n",
       "      <td>The Dead 60s</td>\n",
       "      <td>0</td>\n",
       "    </tr>\n",
       "  </tbody>\n",
       "</table>\n",
       "</div>"
      ],
      "text/plain": [
       "                                       user                song  play_count  \\\n",
       "0  b80344d063b5ccb3212f76538f3d9e43d87dca9e  SOAKIMP12A8C130995           1   \n",
       "1  b80344d063b5ccb3212f76538f3d9e43d87dca9e  SOAPDEY12A81C210A9           1   \n",
       "2  b80344d063b5ccb3212f76538f3d9e43d87dca9e  SOBBMDR12A8C13253B           2   \n",
       "3  b80344d063b5ccb3212f76538f3d9e43d87dca9e  SOBFNSP12AF72A0E22           1   \n",
       "4  b80344d063b5ccb3212f76538f3d9e43d87dca9e  SOBFOVM12A58A7D494           1   \n",
       "\n",
       "                             title  \\\n",
       "0                         The Cove   \n",
       "1             Nothing from Nothing   \n",
       "2                  Entre Dos Aguas   \n",
       "3            Under Cold Blue Stars   \n",
       "4  Riot Radio (Soundtrack Version)   \n",
       "\n",
       "                                             release    artist_name  year  \n",
       "0                                 Thicker Than Water   Jack Johnson     0  \n",
       "1                                         To Die For  Billy Preston  1974  \n",
       "2                                Flamenco Para Niños  Paco De Lucia  1976  \n",
       "3                              Under Cold Blue Stars     Josh Rouse  2002  \n",
       "4  Nick & Norah's Infinite Playlist - Original Mo...   The Dead 60s     0  "
      ]
     },
     "execution_count": 3,
     "metadata": {},
     "output_type": "execute_result"
    }
   ],
   "source": [
    "df = pd.read_csv(\"song_dataset.csv\")\n",
    "df.head()"
   ]
  },
  {
   "cell_type": "code",
   "execution_count": 4,
   "id": "0129e7d9-a3ed-412c-a8a5-40322f40e66e",
   "metadata": {},
   "outputs": [
    {
     "data": {
      "text/html": [
       "<div>\n",
       "<style scoped>\n",
       "    .dataframe tbody tr th:only-of-type {\n",
       "        vertical-align: middle;\n",
       "    }\n",
       "\n",
       "    .dataframe tbody tr th {\n",
       "        vertical-align: top;\n",
       "    }\n",
       "\n",
       "    .dataframe thead th {\n",
       "        text-align: right;\n",
       "    }\n",
       "</style>\n",
       "<table border=\"1\" class=\"dataframe\">\n",
       "  <thead>\n",
       "    <tr style=\"text-align: right;\">\n",
       "      <th></th>\n",
       "      <th>user</th>\n",
       "      <th>song</th>\n",
       "      <th>play_count</th>\n",
       "      <th>title</th>\n",
       "      <th>release</th>\n",
       "      <th>artist_name</th>\n",
       "      <th>year</th>\n",
       "    </tr>\n",
       "  </thead>\n",
       "  <tbody>\n",
       "    <tr>\n",
       "      <th>102622</th>\n",
       "      <td>21f4ac98aa1665bd42027ba12184a939ff435f59</td>\n",
       "      <td>SOKAKHH12AF72A5BAF</td>\n",
       "      <td>3</td>\n",
       "      <td>87</td>\n",
       "      <td>Hopeless Romantic</td>\n",
       "      <td>Bouncing Souls</td>\n",
       "      <td>1999</td>\n",
       "    </tr>\n",
       "    <tr>\n",
       "      <th>102623</th>\n",
       "      <td>21f4ac98aa1665bd42027ba12184a939ff435f59</td>\n",
       "      <td>SONPOXM12A8C1440C2</td>\n",
       "      <td>4</td>\n",
       "      <td>Space Olympics</td>\n",
       "      <td>Incredibad</td>\n",
       "      <td>The Lonely Island</td>\n",
       "      <td>2009</td>\n",
       "    </tr>\n",
       "    <tr>\n",
       "      <th>102624</th>\n",
       "      <td>21f4ac98aa1665bd42027ba12184a939ff435f59</td>\n",
       "      <td>SOPREHY12AB01815F9</td>\n",
       "      <td>8</td>\n",
       "      <td>I'm On A Boat</td>\n",
       "      <td>Incredibad</td>\n",
       "      <td>The Lonely Island / T-Pain</td>\n",
       "      <td>2009</td>\n",
       "    </tr>\n",
       "    <tr>\n",
       "      <th>102625</th>\n",
       "      <td>21f4ac98aa1665bd42027ba12184a939ff435f59</td>\n",
       "      <td>SOQXKUV12A6D4FB4C9</td>\n",
       "      <td>3</td>\n",
       "      <td>Amityville</td>\n",
       "      <td>The Marshall Mathers LP</td>\n",
       "      <td>Eminem / Bizarre</td>\n",
       "      <td>2000</td>\n",
       "    </tr>\n",
       "    <tr>\n",
       "      <th>102626</th>\n",
       "      <td>21f4ac98aa1665bd42027ba12184a939ff435f59</td>\n",
       "      <td>SOSJRJP12A6D4F826F</td>\n",
       "      <td>18</td>\n",
       "      <td>Master Of Puppets</td>\n",
       "      <td>Master Of Puppets</td>\n",
       "      <td>Metallica</td>\n",
       "      <td>1986</td>\n",
       "    </tr>\n",
       "  </tbody>\n",
       "</table>\n",
       "</div>"
      ],
      "text/plain": [
       "                                            user                song  \\\n",
       "102622  21f4ac98aa1665bd42027ba12184a939ff435f59  SOKAKHH12AF72A5BAF   \n",
       "102623  21f4ac98aa1665bd42027ba12184a939ff435f59  SONPOXM12A8C1440C2   \n",
       "102624  21f4ac98aa1665bd42027ba12184a939ff435f59  SOPREHY12AB01815F9   \n",
       "102625  21f4ac98aa1665bd42027ba12184a939ff435f59  SOQXKUV12A6D4FB4C9   \n",
       "102626  21f4ac98aa1665bd42027ba12184a939ff435f59  SOSJRJP12A6D4F826F   \n",
       "\n",
       "        play_count              title                  release  \\\n",
       "102622           3                 87        Hopeless Romantic   \n",
       "102623           4     Space Olympics               Incredibad   \n",
       "102624           8      I'm On A Boat               Incredibad   \n",
       "102625           3         Amityville  The Marshall Mathers LP   \n",
       "102626          18  Master Of Puppets        Master Of Puppets   \n",
       "\n",
       "                       artist_name  year  \n",
       "102622              Bouncing Souls  1999  \n",
       "102623           The Lonely Island  2009  \n",
       "102624  The Lonely Island / T-Pain  2009  \n",
       "102625            Eminem / Bizarre  2000  \n",
       "102626                   Metallica  1986  "
      ]
     },
     "execution_count": 4,
     "metadata": {},
     "output_type": "execute_result"
    }
   ],
   "source": [
    "df.tail()"
   ]
  },
  {
   "cell_type": "markdown",
   "id": "49042d9f-4944-474b-a2a3-58f5d64ea8ff",
   "metadata": {},
   "source": [
    "## Basic information"
   ]
  },
  {
   "cell_type": "code",
   "execution_count": 5,
   "id": "e10498e0-6a95-4738-b0c8-d64b0212cdae",
   "metadata": {},
   "outputs": [
    {
     "name": "stdout",
     "output_type": "stream",
     "text": [
      "The size of the data: 102627 rows, 7 columns\n"
     ]
    }
   ],
   "source": [
    "# Shape of data \n",
    "print(f\"The size of the data: {df.shape[0]} rows, {df.shape[1]} columns\")"
   ]
  },
  {
   "cell_type": "code",
   "execution_count": 6,
   "id": "dbb6e0eb-8143-4893-a939-fc7849005cca",
   "metadata": {},
   "outputs": [
    {
     "name": "stdout",
     "output_type": "stream",
     "text": [
      "The columns of the song dataset: \n",
      "\n",
      "Index(['user', 'song', 'play_count', 'title', 'release', 'artist_name',\n",
      "       'year'],\n",
      "      dtype='object')\n"
     ]
    }
   ],
   "source": [
    "# Name of columns \n",
    "print(\"The columns of the song dataset: \\n\")\n",
    "print(df.columns)"
   ]
  },
  {
   "cell_type": "code",
   "execution_count": 7,
   "id": "8c21c57d-25ed-4746-8234-3f1ecfd7922c",
   "metadata": {},
   "outputs": [
    {
     "name": "stdout",
     "output_type": "stream",
     "text": [
      "General information about dataset: \n",
      "\n",
      "<class 'pandas.core.frame.DataFrame'>\n",
      "RangeIndex: 102627 entries, 0 to 102626\n",
      "Data columns (total 7 columns):\n",
      " #   Column       Non-Null Count   Dtype \n",
      "---  ------       --------------   ----- \n",
      " 0   user         102627 non-null  object\n",
      " 1   song         102627 non-null  object\n",
      " 2   play_count   102627 non-null  int64 \n",
      " 3   title        102627 non-null  object\n",
      " 4   release      102627 non-null  object\n",
      " 5   artist_name  102627 non-null  object\n",
      " 6   year         102627 non-null  int64 \n",
      "dtypes: int64(2), object(5)\n",
      "memory usage: 5.5+ MB\n",
      "None\n"
     ]
    }
   ],
   "source": [
    "# basic information including Column, Count, Dtype, Non-Null  \n",
    "print(\"General information about dataset: \\n\")\n",
    "print(df.info())"
   ]
  },
  {
   "cell_type": "code",
   "execution_count": 8,
   "id": "1c83ddc9-3c35-4e7c-a73f-1fbd6e40f30a",
   "metadata": {},
   "outputs": [
    {
     "name": "stdout",
     "output_type": "stream",
     "text": [
      "Basic statistical: \n",
      "\n"
     ]
    },
    {
     "data": {
      "text/html": [
       "<div>\n",
       "<style scoped>\n",
       "    .dataframe tbody tr th:only-of-type {\n",
       "        vertical-align: middle;\n",
       "    }\n",
       "\n",
       "    .dataframe tbody tr th {\n",
       "        vertical-align: top;\n",
       "    }\n",
       "\n",
       "    .dataframe thead th {\n",
       "        text-align: right;\n",
       "    }\n",
       "</style>\n",
       "<table border=\"1\" class=\"dataframe\">\n",
       "  <thead>\n",
       "    <tr style=\"text-align: right;\">\n",
       "      <th></th>\n",
       "      <th>play_count</th>\n",
       "      <th>year</th>\n",
       "    </tr>\n",
       "  </thead>\n",
       "  <tbody>\n",
       "    <tr>\n",
       "      <th>count</th>\n",
       "      <td>102627.000000</td>\n",
       "      <td>102627.000000</td>\n",
       "    </tr>\n",
       "    <tr>\n",
       "      <th>mean</th>\n",
       "      <td>2.885790</td>\n",
       "      <td>1624.812389</td>\n",
       "    </tr>\n",
       "    <tr>\n",
       "      <th>std</th>\n",
       "      <td>8.569376</td>\n",
       "      <td>781.595402</td>\n",
       "    </tr>\n",
       "    <tr>\n",
       "      <th>min</th>\n",
       "      <td>1.000000</td>\n",
       "      <td>0.000000</td>\n",
       "    </tr>\n",
       "    <tr>\n",
       "      <th>25%</th>\n",
       "      <td>1.000000</td>\n",
       "      <td>1984.000000</td>\n",
       "    </tr>\n",
       "    <tr>\n",
       "      <th>50%</th>\n",
       "      <td>1.000000</td>\n",
       "      <td>2002.000000</td>\n",
       "    </tr>\n",
       "    <tr>\n",
       "      <th>75%</th>\n",
       "      <td>3.000000</td>\n",
       "      <td>2007.000000</td>\n",
       "    </tr>\n",
       "    <tr>\n",
       "      <th>max</th>\n",
       "      <td>1890.000000</td>\n",
       "      <td>2010.000000</td>\n",
       "    </tr>\n",
       "  </tbody>\n",
       "</table>\n",
       "</div>"
      ],
      "text/plain": [
       "          play_count           year\n",
       "count  102627.000000  102627.000000\n",
       "mean        2.885790    1624.812389\n",
       "std         8.569376     781.595402\n",
       "min         1.000000       0.000000\n",
       "25%         1.000000    1984.000000\n",
       "50%         1.000000    2002.000000\n",
       "75%         3.000000    2007.000000\n",
       "max      1890.000000    2010.000000"
      ]
     },
     "execution_count": 8,
     "metadata": {},
     "output_type": "execute_result"
    }
   ],
   "source": [
    "# Basic Statictiscal\n",
    "print(\"Basic statistical: \\n\")\n",
    "df.describe() "
   ]
  },
  {
   "cell_type": "markdown",
   "id": "fa204cd4-ba5f-489c-9a7e-88a829635127",
   "metadata": {},
   "source": [
    "#### missing value"
   ]
  },
  {
   "cell_type": "code",
   "execution_count": 9,
   "id": "5655f698-a9bf-4c17-978a-31047f930282",
   "metadata": {},
   "outputs": [
    {
     "name": "stdout",
     "output_type": "stream",
     "text": [
      "The count of missing values for each column: \n"
     ]
    },
    {
     "data": {
      "text/plain": [
       "user           0\n",
       "song           0\n",
       "play_count     0\n",
       "title          0\n",
       "release        0\n",
       "artist_name    0\n",
       "year           0\n",
       "dtype: int64"
      ]
     },
     "execution_count": 9,
     "metadata": {},
     "output_type": "execute_result"
    }
   ],
   "source": [
    "# Check for missing values in the DataFrame\n",
    "missing_values = df.isnull().sum()\n",
    "\n",
    "# Display the count of missing values for each column\n",
    "print(\"The count of missing values for each column: \")\n",
    "missing_values"
   ]
  },
  {
   "cell_type": "code",
   "execution_count": 10,
   "id": "68979ca7-dd4d-4eb0-9d19-8914315808e9",
   "metadata": {},
   "outputs": [
    {
     "name": "stdout",
     "output_type": "stream",
     "text": [
      "The count of missing values for each column: \n",
      "\n"
     ]
    },
    {
     "data": {
      "text/plain": [
       "user           0.0\n",
       "song           0.0\n",
       "play_count     0.0\n",
       "title          0.0\n",
       "release        0.0\n",
       "artist_name    0.0\n",
       "year           0.0\n",
       "dtype: float64"
      ]
     },
     "execution_count": 10,
     "metadata": {},
     "output_type": "execute_result"
    }
   ],
   "source": [
    "# Calculate the percentage of missing values\n",
    "missing_percentage = (missing_values / len(df)) * 100\n",
    "\n",
    "# Display the percentage of missing values for each column\n",
    "print(\"The count of missing values for each column: \\n\")\n",
    "missing_percentage"
   ]
  },
  {
   "cell_type": "markdown",
   "id": "8d5a0274-f5a1-49ad-af2a-e4995c48b86f",
   "metadata": {},
   "source": [
    "#### Duplicate values"
   ]
  },
  {
   "cell_type": "code",
   "execution_count": 11,
   "id": "f7fbb8b1-577f-4050-97dd-f5d7c7ac61a8",
   "metadata": {},
   "outputs": [
    {
     "name": "stdout",
     "output_type": "stream",
     "text": [
      "\n",
      "Total number of duplicate rows: 1055\n",
      "Percentage of duplicate: 1.03%\n"
     ]
    }
   ],
   "source": [
    "# Check for duplicates in the song dataset\n",
    "duplicates = df.duplicated()\n",
    "\n",
    "# Calculate the percentage of duplicate rows\n",
    "duplicate_percentage = (duplicates.sum() / len(df)) * 100\n",
    "\n",
    "# Display result\n",
    "print(f\"\\nTotal number of duplicate rows: {duplicates.sum()}\")\n",
    "print(f\"Percentage of duplicate: {duplicate_percentage:.2f}%\")"
   ]
  },
  {
   "cell_type": "code",
   "execution_count": 12,
   "id": "f4b2455f-81f7-4164-8a14-a1331933e49d",
   "metadata": {},
   "outputs": [
    {
     "data": {
      "text/html": [
       "<div>\n",
       "<style scoped>\n",
       "    .dataframe tbody tr th:only-of-type {\n",
       "        vertical-align: middle;\n",
       "    }\n",
       "\n",
       "    .dataframe tbody tr th {\n",
       "        vertical-align: top;\n",
       "    }\n",
       "\n",
       "    .dataframe thead th {\n",
       "        text-align: right;\n",
       "    }\n",
       "</style>\n",
       "<table border=\"1\" class=\"dataframe\">\n",
       "  <thead>\n",
       "    <tr style=\"text-align: right;\">\n",
       "      <th></th>\n",
       "      <th>user</th>\n",
       "      <th>song</th>\n",
       "      <th>play_count</th>\n",
       "      <th>title</th>\n",
       "      <th>release</th>\n",
       "      <th>artist_name</th>\n",
       "      <th>year</th>\n",
       "    </tr>\n",
       "  </thead>\n",
       "  <tbody>\n",
       "    <tr>\n",
       "      <th>10</th>\n",
       "      <td>b80344d063b5ccb3212f76538f3d9e43d87dca9e</td>\n",
       "      <td>SOBXHDL12A81C204C0</td>\n",
       "      <td>1</td>\n",
       "      <td>Stronger</td>\n",
       "      <td>Graduation</td>\n",
       "      <td>Kanye West</td>\n",
       "      <td>2007</td>\n",
       "    </tr>\n",
       "    <tr>\n",
       "      <th>197</th>\n",
       "      <td>4bd88bfb25263a75bbdd467e74018f4ae570e5df</td>\n",
       "      <td>SOVEUVC12A6310EAF1</td>\n",
       "      <td>5</td>\n",
       "      <td>Just Lose It</td>\n",
       "      <td>Curtain Call</td>\n",
       "      <td>Eminem</td>\n",
       "      <td>2004</td>\n",
       "    </tr>\n",
       "    <tr>\n",
       "      <th>311</th>\n",
       "      <td>b64cdd1a0bd907e5e00b39e345194768e330d652</td>\n",
       "      <td>SOLQYOG12B0B80BA71</td>\n",
       "      <td>2</td>\n",
       "      <td>The Prime Time Of Your Life</td>\n",
       "      <td>Human After All</td>\n",
       "      <td>Daft Punk</td>\n",
       "      <td>2005</td>\n",
       "    </tr>\n",
       "    <tr>\n",
       "      <th>771</th>\n",
       "      <td>5a905f000fc1ff3df7ca807d57edb608863db05d</td>\n",
       "      <td>SOLQYOG12B0B80BA71</td>\n",
       "      <td>2</td>\n",
       "      <td>The Prime Time Of Your Life</td>\n",
       "      <td>Human After All</td>\n",
       "      <td>Daft Punk</td>\n",
       "      <td>2005</td>\n",
       "    </tr>\n",
       "    <tr>\n",
       "      <th>898</th>\n",
       "      <td>5a905f000fc1ff3df7ca807d57edb608863db05d</td>\n",
       "      <td>SORRCNC12A8C13FDA9</td>\n",
       "      <td>1</td>\n",
       "      <td>Is This It</td>\n",
       "      <td>Is This It</td>\n",
       "      <td>The Strokes</td>\n",
       "      <td>2001</td>\n",
       "    </tr>\n",
       "    <tr>\n",
       "      <th>949</th>\n",
       "      <td>5a905f000fc1ff3df7ca807d57edb608863db05d</td>\n",
       "      <td>SOUZBUD12A8C13FD8E</td>\n",
       "      <td>1</td>\n",
       "      <td>Killing Lies</td>\n",
       "      <td>First Impressions Of Earth</td>\n",
       "      <td>The Strokes</td>\n",
       "      <td>2005</td>\n",
       "    </tr>\n",
       "    <tr>\n",
       "      <th>1360</th>\n",
       "      <td>bd8475385f0aa78830fa6dfce9e7242164b035c8</td>\n",
       "      <td>SOAVWHY12AB017C6C0</td>\n",
       "      <td>1</td>\n",
       "      <td>Losing Touch</td>\n",
       "      <td>Day &amp; Age</td>\n",
       "      <td>The Killers</td>\n",
       "      <td>2008</td>\n",
       "    </tr>\n",
       "    <tr>\n",
       "      <th>1385</th>\n",
       "      <td>bd8475385f0aa78830fa6dfce9e7242164b035c8</td>\n",
       "      <td>SOETQJP12A6D4F6731</td>\n",
       "      <td>1</td>\n",
       "      <td>Not Big</td>\n",
       "      <td>Alright_ Still</td>\n",
       "      <td>Lily Allen</td>\n",
       "      <td>2006</td>\n",
       "    </tr>\n",
       "    <tr>\n",
       "      <th>1443</th>\n",
       "      <td>bd8475385f0aa78830fa6dfce9e7242164b035c8</td>\n",
       "      <td>SONVJUL12A6701FB7A</td>\n",
       "      <td>1</td>\n",
       "      <td>The Damage In Your Heart</td>\n",
       "      <td>Make Believe</td>\n",
       "      <td>Weezer</td>\n",
       "      <td>2005</td>\n",
       "    </tr>\n",
       "    <tr>\n",
       "      <th>1465</th>\n",
       "      <td>bd8475385f0aa78830fa6dfce9e7242164b035c8</td>\n",
       "      <td>SOSDTGC12AF72A2BC3</td>\n",
       "      <td>1</td>\n",
       "      <td>Chinese</td>\n",
       "      <td>It's Not Me_ It's You</td>\n",
       "      <td>Lily Allen</td>\n",
       "      <td>2009</td>\n",
       "    </tr>\n",
       "  </tbody>\n",
       "</table>\n",
       "</div>"
      ],
      "text/plain": [
       "                                          user                song  \\\n",
       "10    b80344d063b5ccb3212f76538f3d9e43d87dca9e  SOBXHDL12A81C204C0   \n",
       "197   4bd88bfb25263a75bbdd467e74018f4ae570e5df  SOVEUVC12A6310EAF1   \n",
       "311   b64cdd1a0bd907e5e00b39e345194768e330d652  SOLQYOG12B0B80BA71   \n",
       "771   5a905f000fc1ff3df7ca807d57edb608863db05d  SOLQYOG12B0B80BA71   \n",
       "898   5a905f000fc1ff3df7ca807d57edb608863db05d  SORRCNC12A8C13FDA9   \n",
       "949   5a905f000fc1ff3df7ca807d57edb608863db05d  SOUZBUD12A8C13FD8E   \n",
       "1360  bd8475385f0aa78830fa6dfce9e7242164b035c8  SOAVWHY12AB017C6C0   \n",
       "1385  bd8475385f0aa78830fa6dfce9e7242164b035c8  SOETQJP12A6D4F6731   \n",
       "1443  bd8475385f0aa78830fa6dfce9e7242164b035c8  SONVJUL12A6701FB7A   \n",
       "1465  bd8475385f0aa78830fa6dfce9e7242164b035c8  SOSDTGC12AF72A2BC3   \n",
       "\n",
       "      play_count                        title                     release  \\\n",
       "10             1                     Stronger                  Graduation   \n",
       "197            5                 Just Lose It                Curtain Call   \n",
       "311            2  The Prime Time Of Your Life             Human After All   \n",
       "771            2  The Prime Time Of Your Life             Human After All   \n",
       "898            1                   Is This It                  Is This It   \n",
       "949            1                 Killing Lies  First Impressions Of Earth   \n",
       "1360           1                 Losing Touch                   Day & Age   \n",
       "1385           1                      Not Big              Alright_ Still   \n",
       "1443           1     The Damage In Your Heart                Make Believe   \n",
       "1465           1                      Chinese       It's Not Me_ It's You   \n",
       "\n",
       "      artist_name  year  \n",
       "10     Kanye West  2007  \n",
       "197        Eminem  2004  \n",
       "311     Daft Punk  2005  \n",
       "771     Daft Punk  2005  \n",
       "898   The Strokes  2001  \n",
       "949   The Strokes  2005  \n",
       "1360  The Killers  2008  \n",
       "1385   Lily Allen  2006  \n",
       "1443       Weezer  2005  \n",
       "1465   Lily Allen  2009  "
      ]
     },
     "execution_count": 12,
     "metadata": {},
     "output_type": "execute_result"
    }
   ],
   "source": [
    "df[duplicates].head(10)"
   ]
  },
  {
   "cell_type": "code",
   "execution_count": 13,
   "id": "3f48ab78-9c2d-401e-bd35-3d0b6c782b17",
   "metadata": {},
   "outputs": [
    {
     "name": "stdout",
     "output_type": "stream",
     "text": [
      "number of unique values: \n",
      "\n",
      "user            2042\n",
      "song           44458\n",
      "play_count       129\n",
      "title          40382\n",
      "release        20164\n",
      "artist_name    11928\n",
      "year              66\n",
      "dtype: int64\n"
     ]
    }
   ],
   "source": [
    "# Use nunique() to count the number of unique values in each column\n",
    "unique_counts = df.nunique()\n",
    "\n",
    "# Display the number of unique values \n",
    "print(f\"number of unique values: \\n\\n{unique_counts}\")"
   ]
  },
  {
   "cell_type": "markdown",
   "id": "523843bc-f123-4314-9150-ed0eede79b8e",
   "metadata": {},
   "source": [
    "#### Get a count of the 'None', 'Null' & empty string and zero values"
   ]
  },
  {
   "cell_type": "code",
   "execution_count": 14,
   "id": "d5146a6c-59f9-4add-b69c-310de1cbeda4",
   "metadata": {},
   "outputs": [
    {
     "name": "stdout",
     "output_type": "stream",
     "text": [
      "The number of rows containing Null, None, empty string, or 0 values is:\n"
     ]
    },
    {
     "data": {
      "text/html": [
       "<div>\n",
       "<style scoped>\n",
       "    .dataframe tbody tr th:only-of-type {\n",
       "        vertical-align: middle;\n",
       "    }\n",
       "\n",
       "    .dataframe tbody tr th {\n",
       "        vertical-align: top;\n",
       "    }\n",
       "\n",
       "    .dataframe thead th {\n",
       "        text-align: right;\n",
       "    }\n",
       "</style>\n",
       "<table border=\"1\" class=\"dataframe\">\n",
       "  <thead>\n",
       "    <tr style=\"text-align: right;\">\n",
       "      <th></th>\n",
       "      <th>Count</th>\n",
       "      <th>Percentage</th>\n",
       "    </tr>\n",
       "  </thead>\n",
       "  <tbody>\n",
       "    <tr>\n",
       "      <th>user</th>\n",
       "      <td>0</td>\n",
       "      <td>0.000000</td>\n",
       "    </tr>\n",
       "    <tr>\n",
       "      <th>song</th>\n",
       "      <td>0</td>\n",
       "      <td>0.000000</td>\n",
       "    </tr>\n",
       "    <tr>\n",
       "      <th>play_count</th>\n",
       "      <td>0</td>\n",
       "      <td>0.000000</td>\n",
       "    </tr>\n",
       "    <tr>\n",
       "      <th>title</th>\n",
       "      <td>0</td>\n",
       "      <td>0.000000</td>\n",
       "    </tr>\n",
       "    <tr>\n",
       "      <th>release</th>\n",
       "      <td>0</td>\n",
       "      <td>0.000000</td>\n",
       "    </tr>\n",
       "    <tr>\n",
       "      <th>artist_name</th>\n",
       "      <td>0</td>\n",
       "      <td>0.000000</td>\n",
       "    </tr>\n",
       "    <tr>\n",
       "      <th>year</th>\n",
       "      <td>19283</td>\n",
       "      <td>18.789402</td>\n",
       "    </tr>\n",
       "  </tbody>\n",
       "</table>\n",
       "</div>"
      ],
      "text/plain": [
       "             Count  Percentage\n",
       "user             0    0.000000\n",
       "song             0    0.000000\n",
       "play_count       0    0.000000\n",
       "title            0    0.000000\n",
       "release          0    0.000000\n",
       "artist_name      0    0.000000\n",
       "year         19283   18.789402"
      ]
     },
     "execution_count": 14,
     "metadata": {},
     "output_type": "execute_result"
    }
   ],
   "source": [
    "# Function to check for NULL, None, empty string, and 0 values\"\n",
    "def check_values(value):\n",
    "    return value == \"Null\" or value is None or value == '' or value == \"0\" or value == 0\n",
    "\n",
    "# Check for each columns\n",
    "result = df.applymap(check_values).sum()\n",
    "\n",
    "# Calculate percentage\n",
    "percentage_result = (result / len(df)) * 100\n",
    "\n",
    "# Show result\n",
    "result_df = pd.DataFrame({\n",
    "    'Count': result, \n",
    "    'Percentage': percentage_result})\n",
    "\n",
    "print(\"The number of rows containing Null, None, empty string, or 0 values is:\")\n",
    "result_df"
   ]
  },
  {
   "cell_type": "markdown",
   "id": "16db5f10-69d1-4f1b-9e08-04799fa25a40",
   "metadata": {},
   "source": [
    "#### check outliers"
   ]
  },
  {
   "cell_type": "code",
   "execution_count": 15,
   "id": "fa40f409-1089-440f-8f53-50c1e4f1b731",
   "metadata": {},
   "outputs": [
    {
     "data": {
      "image/png": "[encoded data removed]",
      "text/plain": [
       "<Figure size 800x400 with 1 Axes>"
      ]
     },
     "metadata": {},
     "output_type": "display_data"
    }
   ],
   "source": [
    "plt.figure(figsize=(8, 4))\n",
    "sns.boxplot(data=df)\n",
    "plt.title(\"Boxplot of Numeric Columns\")\n",
    "plt.show()"
   ]
  },
  {
   "cell_type": "markdown",
   "id": "291f5b74-8ba8-45fe-a748-c76245f07466",
   "metadata": {},
   "source": [
    "## Data Cleaning"
   ]
  },
  {
   "cell_type": "markdown",
   "id": "b23f58e9-c92b-4612-8a6c-ea1164c1a9f9",
   "metadata": {},
   "source": [
    "### Remove outliers\n",
    "\n",
    "#### Play_count\n"
   ]
  },
  {
   "cell_type": "code",
   "execution_count": 16,
   "id": "16a3202a-e065-4a6c-9032-8bbd0114fce5",
   "metadata": {},
   "outputs": [
    {
     "name": "stdout",
     "output_type": "stream",
     "text": [
      "Lower bound of play_count value:  -2.0\n",
      "Upper bound of play_count value:  6.0\n",
      "The size of the dataset: 94100 rows  - 7 columns\n"
     ]
    }
   ],
   "source": [
    "# Determine the values Q1 and Q3\n",
    "Q1 = df['play_count'].quantile(0.25)\n",
    "Q3 = df['play_count'].quantile(0.75)\n",
    "\n",
    "# Determine the \"interquartile range\" (IQR)\n",
    "IQR = Q3 - Q1\n",
    "\n",
    "# Determine lower and upper thresholds to identify outliers\n",
    "lower_bound = Q1 - 1.5 * IQR\n",
    "upper_bound = Q3 + 1.5 * IQR\n",
    "\n",
    "# Display lower and uppoer bound\n",
    "print(\"Lower bound of play_count value: \", lower_bound)\n",
    "print(\"Upper bound of play_count value: \", upper_bound)\n",
    "\n",
    "# Remove lines containing outliers\n",
    "df_song = df[(df['play_count'] >= lower_bound) & (df['play_count'] <= upper_bound)]\n",
    "\n",
    "# Display the size of the song dataset after removing play_count outliers\n",
    "print(f\"The size of the dataset: {df_song.shape[0]} rows  - {df_song.shape[1]} columns\")"
   ]
  },
  {
   "cell_type": "markdown",
   "id": "fd0a4e45-2d73-4d48-b1f5-ee7614600272",
   "metadata": {},
   "source": [
    "### Remove duplicate values"
   ]
  },
  {
   "cell_type": "code",
   "execution_count": 17,
   "id": "e1115692-d16c-4d78-9da1-d60f19f9abc0",
   "metadata": {},
   "outputs": [
    {
     "name": "stdout",
     "output_type": "stream",
     "text": [
      "The size of the song dataset : 93099 rows - 7 columns\n"
     ]
    }
   ],
   "source": [
    "# Remove rows with duplicate values based on all columns\n",
    "df_song = df_song.drop_duplicates()\n",
    "\n",
    "# Display the size of the song dataset after removing duplicate values.\n",
    "print(f\"The size of the song dataset : {df_song.shape[0]} rows - {df_song.shape[1]} columns\")"
   ]
  },
  {
   "cell_type": "markdown",
   "id": "1ce2ecd2-09a5-46b1-9b71-430bba918f78",
   "metadata": {},
   "source": [
    "### Process value 0 in column year\n",
    "\n",
    "## Use Case 1  Removing rows have value 0 in column year "
   ]
  },
  {
   "cell_type": "code",
   "execution_count": 18,
   "id": "defb99a0-a8e9-42a9-bef2-83393579c6df",
   "metadata": {},
   "outputs": [
    {
     "data": {
      "text/html": [
       "<div>\n",
       "<style scoped>\n",
       "    .dataframe tbody tr th:only-of-type {\n",
       "        vertical-align: middle;\n",
       "    }\n",
       "\n",
       "    .dataframe tbody tr th {\n",
       "        vertical-align: top;\n",
       "    }\n",
       "\n",
       "    .dataframe thead th {\n",
       "        text-align: right;\n",
       "    }\n",
       "</style>\n",
       "<table border=\"1\" class=\"dataframe\">\n",
       "  <thead>\n",
       "    <tr style=\"text-align: right;\">\n",
       "      <th></th>\n",
       "      <th>user</th>\n",
       "      <th>song</th>\n",
       "      <th>play_count</th>\n",
       "      <th>title</th>\n",
       "      <th>release</th>\n",
       "      <th>artist_name</th>\n",
       "      <th>year</th>\n",
       "    </tr>\n",
       "  </thead>\n",
       "  <tbody>\n",
       "    <tr>\n",
       "      <th>1</th>\n",
       "      <td>b80344d063b5ccb3212f76538f3d9e43d87dca9e</td>\n",
       "      <td>SOAPDEY12A81C210A9</td>\n",
       "      <td>1</td>\n",
       "      <td>Nothing from Nothing</td>\n",
       "      <td>To Die For</td>\n",
       "      <td>Billy Preston</td>\n",
       "      <td>1974</td>\n",
       "    </tr>\n",
       "    <tr>\n",
       "      <th>2</th>\n",
       "      <td>b80344d063b5ccb3212f76538f3d9e43d87dca9e</td>\n",
       "      <td>SOBBMDR12A8C13253B</td>\n",
       "      <td>2</td>\n",
       "      <td>Entre Dos Aguas</td>\n",
       "      <td>Flamenco Para Niños</td>\n",
       "      <td>Paco De Lucia</td>\n",
       "      <td>1976</td>\n",
       "    </tr>\n",
       "    <tr>\n",
       "      <th>3</th>\n",
       "      <td>b80344d063b5ccb3212f76538f3d9e43d87dca9e</td>\n",
       "      <td>SOBFNSP12AF72A0E22</td>\n",
       "      <td>1</td>\n",
       "      <td>Under Cold Blue Stars</td>\n",
       "      <td>Under Cold Blue Stars</td>\n",
       "      <td>Josh Rouse</td>\n",
       "      <td>2002</td>\n",
       "    </tr>\n",
       "    <tr>\n",
       "      <th>6</th>\n",
       "      <td>b80344d063b5ccb3212f76538f3d9e43d87dca9e</td>\n",
       "      <td>SOBSUJE12A6D4F8CF5</td>\n",
       "      <td>2</td>\n",
       "      <td>12 segundos de oscuridad</td>\n",
       "      <td>10 + Downloaded</td>\n",
       "      <td>Jorge Drexler</td>\n",
       "      <td>2006</td>\n",
       "    </tr>\n",
       "    <tr>\n",
       "      <th>7</th>\n",
       "      <td>b80344d063b5ccb3212f76538f3d9e43d87dca9e</td>\n",
       "      <td>SOBVFZR12A6D4F8AE3</td>\n",
       "      <td>1</td>\n",
       "      <td>Ears To The Ground (Album Version)</td>\n",
       "      <td>Under Cold Blue Stars</td>\n",
       "      <td>Josh Rouse</td>\n",
       "      <td>2002</td>\n",
       "    </tr>\n",
       "    <tr>\n",
       "      <th>...</th>\n",
       "      <td>...</td>\n",
       "      <td>...</td>\n",
       "      <td>...</td>\n",
       "      <td>...</td>\n",
       "      <td>...</td>\n",
       "      <td>...</td>\n",
       "      <td>...</td>\n",
       "    </tr>\n",
       "    <tr>\n",
       "      <th>102619</th>\n",
       "      <td>21f4ac98aa1665bd42027ba12184a939ff435f59</td>\n",
       "      <td>SOFKFLV12A8C142605</td>\n",
       "      <td>4</td>\n",
       "      <td>Leave Dat Boy Alone</td>\n",
       "      <td>D-12 World</td>\n",
       "      <td>D-12</td>\n",
       "      <td>2004</td>\n",
       "    </tr>\n",
       "    <tr>\n",
       "      <th>102621</th>\n",
       "      <td>21f4ac98aa1665bd42027ba12184a939ff435f59</td>\n",
       "      <td>SOIRJGI12AF72A3A57</td>\n",
       "      <td>3</td>\n",
       "      <td>Like A Boss</td>\n",
       "      <td>Incredibad</td>\n",
       "      <td>The Lonely Island</td>\n",
       "      <td>2009</td>\n",
       "    </tr>\n",
       "    <tr>\n",
       "      <th>102622</th>\n",
       "      <td>21f4ac98aa1665bd42027ba12184a939ff435f59</td>\n",
       "      <td>SOKAKHH12AF72A5BAF</td>\n",
       "      <td>3</td>\n",
       "      <td>87</td>\n",
       "      <td>Hopeless Romantic</td>\n",
       "      <td>Bouncing Souls</td>\n",
       "      <td>1999</td>\n",
       "    </tr>\n",
       "    <tr>\n",
       "      <th>102623</th>\n",
       "      <td>21f4ac98aa1665bd42027ba12184a939ff435f59</td>\n",
       "      <td>SONPOXM12A8C1440C2</td>\n",
       "      <td>4</td>\n",
       "      <td>Space Olympics</td>\n",
       "      <td>Incredibad</td>\n",
       "      <td>The Lonely Island</td>\n",
       "      <td>2009</td>\n",
       "    </tr>\n",
       "    <tr>\n",
       "      <th>102625</th>\n",
       "      <td>21f4ac98aa1665bd42027ba12184a939ff435f59</td>\n",
       "      <td>SOQXKUV12A6D4FB4C9</td>\n",
       "      <td>3</td>\n",
       "      <td>Amityville</td>\n",
       "      <td>The Marshall Mathers LP</td>\n",
       "      <td>Eminem / Bizarre</td>\n",
       "      <td>2000</td>\n",
       "    </tr>\n",
       "  </tbody>\n",
       "</table>\n",
       "<p>75656 rows × 7 columns</p>\n",
       "</div>"
      ],
      "text/plain": [
       "                                            user                song  \\\n",
       "1       b80344d063b5ccb3212f76538f3d9e43d87dca9e  SOAPDEY12A81C210A9   \n",
       "2       b80344d063b5ccb3212f76538f3d9e43d87dca9e  SOBBMDR12A8C13253B   \n",
       "3       b80344d063b5ccb3212f76538f3d9e43d87dca9e  SOBFNSP12AF72A0E22   \n",
       "6       b80344d063b5ccb3212f76538f3d9e43d87dca9e  SOBSUJE12A6D4F8CF5   \n",
       "7       b80344d063b5ccb3212f76538f3d9e43d87dca9e  SOBVFZR12A6D4F8AE3   \n",
       "...                                          ...                 ...   \n",
       "102619  21f4ac98aa1665bd42027ba12184a939ff435f59  SOFKFLV12A8C142605   \n",
       "102621  21f4ac98aa1665bd42027ba12184a939ff435f59  SOIRJGI12AF72A3A57   \n",
       "102622  21f4ac98aa1665bd42027ba12184a939ff435f59  SOKAKHH12AF72A5BAF   \n",
       "102623  21f4ac98aa1665bd42027ba12184a939ff435f59  SONPOXM12A8C1440C2   \n",
       "102625  21f4ac98aa1665bd42027ba12184a939ff435f59  SOQXKUV12A6D4FB4C9   \n",
       "\n",
       "        play_count                               title  \\\n",
       "1                1                Nothing from Nothing   \n",
       "2                2                     Entre Dos Aguas   \n",
       "3                1               Under Cold Blue Stars   \n",
       "6                2            12 segundos de oscuridad   \n",
       "7                1  Ears To The Ground (Album Version)   \n",
       "...            ...                                 ...   \n",
       "102619           4                 Leave Dat Boy Alone   \n",
       "102621           3                         Like A Boss   \n",
       "102622           3                                  87   \n",
       "102623           4                      Space Olympics   \n",
       "102625           3                          Amityville   \n",
       "\n",
       "                        release        artist_name  year  \n",
       "1                    To Die For      Billy Preston  1974  \n",
       "2           Flamenco Para Niños      Paco De Lucia  1976  \n",
       "3         Under Cold Blue Stars         Josh Rouse  2002  \n",
       "6               10 + Downloaded      Jorge Drexler  2006  \n",
       "7         Under Cold Blue Stars         Josh Rouse  2002  \n",
       "...                         ...                ...   ...  \n",
       "102619               D-12 World               D-12  2004  \n",
       "102621               Incredibad  The Lonely Island  2009  \n",
       "102622        Hopeless Romantic     Bouncing Souls  1999  \n",
       "102623               Incredibad  The Lonely Island  2009  \n",
       "102625  The Marshall Mathers LP   Eminem / Bizarre  2000  \n",
       "\n",
       "[75656 rows x 7 columns]"
      ]
     },
     "execution_count": 18,
     "metadata": {},
     "output_type": "execute_result"
    }
   ],
   "source": [
    "# Remove lines containing outliers\n",
    "df_0 = df_song[df_song[\"year\"] != 0]\n",
    "df_0"
   ]
  },
  {
   "cell_type": "markdown",
   "id": "d442095a-6cff-40f8-af2e-211b6caccbca",
   "metadata": {},
   "source": [
    "## Exploratory Data Analysis\n",
    "- What are the most listened songs?\n",
    "- Who are the most popular artists?\n",
    "- How is the distribution of song count for users?\n",
    "\n",
    "### What are the most listened songs?"
   ]
  },
  {
   "cell_type": "code",
   "execution_count": 19,
   "id": "1a82f9e5-786e-4ca4-8fca-f5b62373c0f2",
   "metadata": {},
   "outputs": [
    {
     "name": "stdout",
     "output_type": "stream",
     "text": [
      "Top 10 most listened songs with total listen count:\n"
     ]
    },
    {
     "data": {
      "text/html": [
       "<div>\n",
       "<style scoped>\n",
       "    .dataframe tbody tr th:only-of-type {\n",
       "        vertical-align: middle;\n",
       "    }\n",
       "\n",
       "    .dataframe tbody tr th {\n",
       "        vertical-align: top;\n",
       "    }\n",
       "\n",
       "    .dataframe thead th {\n",
       "        text-align: right;\n",
       "    }\n",
       "</style>\n",
       "<table border=\"1\" class=\"dataframe\">\n",
       "  <thead>\n",
       "    <tr style=\"text-align: right;\">\n",
       "      <th></th>\n",
       "      <th>play_count</th>\n",
       "    </tr>\n",
       "    <tr>\n",
       "      <th>title</th>\n",
       "      <th></th>\n",
       "    </tr>\n",
       "  </thead>\n",
       "  <tbody>\n",
       "    <tr>\n",
       "      <th>Use Somebody</th>\n",
       "      <td>340</td>\n",
       "    </tr>\n",
       "    <tr>\n",
       "      <th>Undo</th>\n",
       "      <td>333</td>\n",
       "    </tr>\n",
       "    <tr>\n",
       "      <th>Secrets</th>\n",
       "      <td>320</td>\n",
       "    </tr>\n",
       "    <tr>\n",
       "      <th>You're The One</th>\n",
       "      <td>316</td>\n",
       "    </tr>\n",
       "    <tr>\n",
       "      <th>Somebody To Love</th>\n",
       "      <td>293</td>\n",
       "    </tr>\n",
       "    <tr>\n",
       "      <th>Yellow</th>\n",
       "      <td>285</td>\n",
       "    </tr>\n",
       "    <tr>\n",
       "      <th>Revelry</th>\n",
       "      <td>281</td>\n",
       "    </tr>\n",
       "    <tr>\n",
       "      <th>Love Story</th>\n",
       "      <td>268</td>\n",
       "    </tr>\n",
       "    <tr>\n",
       "      <th>Fireflies</th>\n",
       "      <td>242</td>\n",
       "    </tr>\n",
       "    <tr>\n",
       "      <th>Tive Sim</th>\n",
       "      <td>213</td>\n",
       "    </tr>\n",
       "  </tbody>\n",
       "</table>\n",
       "</div>"
      ],
      "text/plain": [
       "                  play_count\n",
       "title                       \n",
       "Use Somebody             340\n",
       "Undo                     333\n",
       "Secrets                  320\n",
       "You're The One           316\n",
       "Somebody To Love         293\n",
       "Yellow                   285\n",
       "Revelry                  281\n",
       "Love Story               268\n",
       "Fireflies                242\n",
       "Tive Sim                 213"
      ]
     },
     "execution_count": 19,
     "metadata": {},
     "output_type": "execute_result"
    }
   ],
   "source": [
    "# Calculate the total number of listens for each song\n",
    "total_listen_count = df_0.groupby('title')['play_count'].sum()\n",
    "\n",
    "# sorted by total number of listens in descending order\n",
    "most_listened_songs = total_listen_count.sort_values(ascending=False)\n",
    "\n",
    "# Displays the 10 most listened to songs\n",
    "top_10_songs = pd.DataFrame(most_listened_songs.nlargest(10))\n",
    "\n",
    "# Show result\n",
    "print(\"Top 10 most listened songs with total listen count:\")\n",
    "top_10_songs"
   ]
  },
  {
   "cell_type": "markdown",
   "id": "89d91814-15c8-45de-9ead-5f90b6120f27",
   "metadata": {},
   "source": [
    "### Who are the most popular artists?"
   ]
  },
  {
   "cell_type": "code",
   "execution_count": 20,
   "id": "43198a29-1d92-4db2-af43-edf5fbdb535d",
   "metadata": {},
   "outputs": [
    {
     "data": {
      "text/html": [
       "<div>\n",
       "<style scoped>\n",
       "    .dataframe tbody tr th:only-of-type {\n",
       "        vertical-align: middle;\n",
       "    }\n",
       "\n",
       "    .dataframe tbody tr th {\n",
       "        vertical-align: top;\n",
       "    }\n",
       "\n",
       "    .dataframe thead th {\n",
       "        text-align: right;\n",
       "    }\n",
       "</style>\n",
       "<table border=\"1\" class=\"dataframe\">\n",
       "  <thead>\n",
       "    <tr style=\"text-align: right;\">\n",
       "      <th></th>\n",
       "      <th>play_count</th>\n",
       "    </tr>\n",
       "    <tr>\n",
       "      <th>artist_name</th>\n",
       "      <th></th>\n",
       "    </tr>\n",
       "  </thead>\n",
       "  <tbody>\n",
       "    <tr>\n",
       "      <th>Coldplay</th>\n",
       "      <td>1367</td>\n",
       "    </tr>\n",
       "    <tr>\n",
       "      <th>The Black Keys</th>\n",
       "      <td>1152</td>\n",
       "    </tr>\n",
       "    <tr>\n",
       "      <th>Kings Of Leon</th>\n",
       "      <td>966</td>\n",
       "    </tr>\n",
       "    <tr>\n",
       "      <th>Eminem</th>\n",
       "      <td>840</td>\n",
       "    </tr>\n",
       "    <tr>\n",
       "      <th>Justin Bieber</th>\n",
       "      <td>774</td>\n",
       "    </tr>\n",
       "    <tr>\n",
       "      <th>Jack Johnson</th>\n",
       "      <td>740</td>\n",
       "    </tr>\n",
       "    <tr>\n",
       "      <th>Daft Punk</th>\n",
       "      <td>648</td>\n",
       "    </tr>\n",
       "    <tr>\n",
       "      <th>Radiohead</th>\n",
       "      <td>638</td>\n",
       "    </tr>\n",
       "    <tr>\n",
       "      <th>OneRepublic</th>\n",
       "      <td>616</td>\n",
       "    </tr>\n",
       "    <tr>\n",
       "      <th>Taylor Swift</th>\n",
       "      <td>599</td>\n",
       "    </tr>\n",
       "  </tbody>\n",
       "</table>\n",
       "</div>"
      ],
      "text/plain": [
       "                play_count\n",
       "artist_name               \n",
       "Coldplay              1367\n",
       "The Black Keys        1152\n",
       "Kings Of Leon          966\n",
       "Eminem                 840\n",
       "Justin Bieber          774\n",
       "Jack Johnson           740\n",
       "Daft Punk              648\n",
       "Radiohead              638\n",
       "OneRepublic            616\n",
       "Taylor Swift           599"
      ]
     },
     "execution_count": 20,
     "metadata": {},
     "output_type": "execute_result"
    }
   ],
   "source": [
    "# the total number of listens for each artist\n",
    "total_listen_count_by_artist = df_0.groupby('artist_name')['play_count'].sum()\n",
    "\n",
    "# Sort by total number of listens in descending order\n",
    "most_popular_artists = total_listen_count_by_artist.sort_values(ascending=False)\n",
    "\n",
    "# Showing the 10 most popular artists\n",
    "top_10_artists = pd.DataFrame(most_popular_artists.head(10))\n",
    "\n",
    "# Display result \n",
    "top_10_artists"
   ]
  },
  {
   "cell_type": "markdown",
   "id": "8e8d3200-1fcd-42f0-949d-bb9dbbda6958",
   "metadata": {},
   "source": [
    "### How is the distribution of song count for users?"
   ]
  },
  {
   "cell_type": "code",
   "execution_count": 21,
   "id": "7c9fa0ae-2086-4018-aa7d-f3961fc98e86",
   "metadata": {},
   "outputs": [
    {
     "data": {
      "image/png": "[encoded data removed]",
      "text/plain": [
       "<Figure size 1000x600 with 1 Axes>"
      ]
     },
     "metadata": {},
     "output_type": "display_data"
    }
   ],
   "source": [
    "# Get the number of songs for each user\n",
    "song_count_per_user = df_0.groupby('user')['song'].count()\n",
    "\n",
    "# plot distribution\n",
    "plt.figure(figsize=(10, 6))\n",
    "plt.hist(song_count_per_user, bins=50, color='green', edgecolor='black')\n",
    "plt.title('Distribution of Song Count for Users')\n",
    "plt.xlabel('Number of Songs')\n",
    "plt.ylabel('Number of Users')\n",
    "plt.grid(True)\n",
    "plt.show()"
   ]
  },
  {
   "cell_type": "markdown",
   "id": "1fb39eae-da1a-43a2-a829-54b54457d6e0",
   "metadata": {},
   "source": [
    "## Implement a recommendation engine\n",
    "\n",
    "\n",
    "-   Implement a recommendation engine which takes as input a user in the database and recommends one (or multiple) song(s) he has not listened to yet"
   ]
  },
  {
   "cell_type": "markdown",
   "id": "9badf1b6-476c-4335-aebd-12420999cc21",
   "metadata": {},
   "source": [
    "### Use the SVD (Singular Value Decomposition) method in Surprise \n",
    "\n",
    "- **Create Reader and Dataset**:\n",
    "     - Create a Reader object to define the scope of the reviews.\n",
    "     - Create Dataset from DataFrame with created Reader."
   ]
  },
  {
   "cell_type": "code",
   "execution_count": 22,
   "id": "74ef87cb-7809-4f78-9bfc-0bcb1c57b083",
   "metadata": {},
   "outputs": [],
   "source": [
    "from surprise import Dataset, Reader, SVD\n",
    "from surprise.model_selection import train_test_split\n",
    "\n",
    "# Create a Reader object to define the play_count range\n",
    "reader = Reader(rating_scale=(0, df_0['play_count'].max()))\n",
    "\n",
    "# Create a dataset from song_df dataframe\n",
    "data = Dataset.load_from_df(df_0[['user', 'title', 'play_count']], reader)\n"
   ]
  },
  {
   "cell_type": "markdown",
   "id": "e6c500ab-18fe-49c6-89e0-7bda488d00dd",
   "metadata": {},
   "source": [
    "- **Divide the data set into training set and test set**:\n",
    "    - Use train_test_split to split the dataset into a training set and a test set."
   ]
  },
  {
   "cell_type": "code",
   "execution_count": 23,
   "id": "0b689157-4350-4451-a06f-2ab3a70af9de",
   "metadata": {},
   "outputs": [],
   "source": [
    "# Divide the data into training set and test set\n",
    "trainset, testset = train_test_split(data, test_size=0.2, random_state=42)\n"
   ]
  },
  {
   "cell_type": "markdown",
   "id": "72e3feda-d78f-4012-b857-36e14c29b8b0",
   "metadata": {},
   "source": [
    "- **Building and Training SVD Model**:\n",
    "    - Create SVD object.\n",
    "    - Call the fit method to train the model."
   ]
  },
  {
   "cell_type": "code",
   "execution_count": 24,
   "id": "6abd88cb-ad8e-43c3-bc47-b77468e7dd0b",
   "metadata": {},
   "outputs": [
    {
     "data": {
      "text/plain": [
       "<surprise.prediction_algorithms.matrix_factorization.SVD at 0x28abdfbb0>"
      ]
     },
     "execution_count": 24,
     "metadata": {},
     "output_type": "execute_result"
    }
   ],
   "source": [
    "# Collaborative Filtering using SVD\n",
    "svd_model = SVD()\n",
    "svd_model.fit(trainset)"
   ]
  },
  {
   "cell_type": "markdown",
   "id": "6088f367-c28b-4e96-b082-554a80db34bc",
   "metadata": {},
   "source": [
    "- **For SVD**:\n",
    "    - The predictions are made based on dimensionality reduction analysis of the evaluation matrix using SVD\n"
   ]
  },
  {
   "cell_type": "markdown",
   "id": "14ff9475-68a8-43e4-9973-407a95cea3b0",
   "metadata": {},
   "source": [
    "- **The recommendation function uses Collaborative Filtering with SVD**"
   ]
  },
  {
   "cell_type": "code",
   "execution_count": 25,
   "id": "fa651301-6b05-4952-b856-fc0972822dd7",
   "metadata": {},
   "outputs": [],
   "source": [
    "# A recommendation function using Collaborative Filtering with SVD\n",
    "def collaborative_filtering_recommendation_svd(user_id, model, df):\n",
    "    listened_songs = df[df['user'] == user_id]['title'].tolist()\n",
    "\n",
    "    all_songs = df['title'].unique()\n",
    "    unheard_songs = [song for song in all_songs if song not in listened_songs]\n",
    "\n",
    "    recommendations = [(song, model.predict(user_id, song).est) for song in unheard_songs]\n",
    "\n",
    "    recommendations = sorted(recommendations, key=lambda x: x[1], reverse=True)[:10]\n",
    "    \n",
    "    return recommendations\n"
   ]
  },
  {
   "cell_type": "markdown",
   "id": "dfd4fd5b-e5ab-46ce-97c7-eeb89bcd1c88",
   "metadata": {},
   "source": [
    "- **Test**"
   ]
  },
  {
   "cell_type": "code",
   "execution_count": 26,
   "id": "3a9a3ac2-5335-4099-8291-f8a23fefb102",
   "metadata": {},
   "outputs": [
    {
     "name": "stdout",
     "output_type": "stream",
     "text": [
      "RMSE: 1.1884\n"
     ]
    },
    {
     "data": {
      "text/plain": [
       "1.188364936028638"
      ]
     },
     "execution_count": 26,
     "metadata": {},
     "output_type": "execute_result"
    }
   ],
   "source": [
    "from surprise import accuracy\n",
    "\n",
    "# Make predictions on the test set\n",
    "predictions = svd_model.test(testset)\n",
    "\n",
    "# Evaluate the model\n",
    "accuracy.rmse(predictions)"
   ]
  },
  {
   "cell_type": "code",
   "execution_count": 27,
   "id": "e65a7d32-9ebe-426e-a384-573449442645",
   "metadata": {},
   "outputs": [
    {
     "name": "stdout",
     "output_type": "stream",
     "text": [
      "Collaborative Filtering Recommendations:\n",
      "Song: The Big Gundown - Estimate: 2.9684752299996573\n",
      "Song: Un Dia Gris - Estimate: 2.7983779495840135\n",
      "Song: Ella Me Levanto - Estimate: 2.6943502425213834\n",
      "Song: Youth Against Fascism - Estimate: 2.679681592770422\n",
      "Song: Every Lasting Light - Estimate: 2.675231468934992\n",
      "Song: Too Afraid To Love - Estimate: 2.664183762554492\n",
      "Song: When The Stars Go Blue - Estimate: 2.6123921156031376\n",
      "Song: Billy (Album Version) - Estimate: 2.606998837363834\n",
      "Song: Recruiting Soldiers (2002 Digital Remaster) - Estimate: 2.589893238699174\n",
      "Song: Guerrilla Monsoon Rap - Estimate: 2.5776616453262293\n"
     ]
    }
   ],
   "source": [
    "# User id \n",
    "user_id = '59bad0aea569a12d785e401d185f8814d128333e'\n",
    "\n",
    "# Collaborative Filtering\n",
    "collab_recommendations = collaborative_filtering_recommendation_svd(user_id, svd_model, df_0)\n",
    "\n",
    "# Show result\n",
    "print(\"Collaborative Filtering Recommendations:\")\n",
    "for recommendation in collab_recommendations: \n",
    "    print(f\"Song: {recommendation[0]} - Estimate: {recommendation[1]}\")"
   ]
  },
  {
   "cell_type": "markdown",
   "id": "6bc6a6b7-7249-478f-a283-7a6d1c8250fe",
   "metadata": {},
   "source": [
    "### Using KNNBasic"
   ]
  },
  {
   "cell_type": "markdown",
   "id": "8baca3cc-03fd-4988-bdb2-139a1a404460",
   "metadata": {},
   "source": [
    "- **Building and Training KNNBasic Model**:\n",
    "    - Create KNNBasic object.\n",
    "    - Call the fit method to train the model.\n",
    "\n",
    "****\n",
    "- In the KNNBasic model, we can use sim_options to adjust how similarity is computed.\n",
    "- In this case, I used **{'user_based': True}** to implement User-Based Collaborative Filtering.\n",
    "- If you want to use Item-Based Collaborative Filtering, you can set **{'user_based': False}**."
   ]
  },
  {
   "cell_type": "code",
   "execution_count": 28,
   "id": "f693885d-914f-41f8-97d9-975d564ecb4a",
   "metadata": {},
   "outputs": [
    {
     "name": "stdout",
     "output_type": "stream",
     "text": [
      "Computing the msd similarity matrix...\n",
      "Done computing similarity matrix.\n"
     ]
    },
    {
     "data": {
      "text/plain": [
       "<surprise.prediction_algorithms.knns.KNNBasic at 0x28ac2e200>"
      ]
     },
     "execution_count": 28,
     "metadata": {},
     "output_type": "execute_result"
    }
   ],
   "source": [
    "from surprise import KNNBasic\n",
    "\n",
    "# Collaborative Filtering sử dụng KNNBasic\n",
    "knn_model = KNNBasic(sim_options={'user_based': True})\n",
    "knn_model.fit(trainset)"
   ]
  },
  {
   "cell_type": "markdown",
   "id": "69ed152f-6930-44a6-8c05-7951ca8b4676",
   "metadata": {},
   "source": [
    "**The Recommendation function uses Collaborative Filtering with KNNBasic**"
   ]
  },
  {
   "cell_type": "code",
   "execution_count": 33,
   "id": "6470e7f9-80c4-42ba-8362-745debb70923",
   "metadata": {},
   "outputs": [],
   "source": [
    "# The Recommendation function uses Collaborative Filtering with KNNBasic\n",
    "def collaborative_filtering_recommendation_knn(user_id, model, df):\n",
    "    listened_songs = df[df['user'] == user_id]['title'].tolist()\n",
    "\n",
    "    all_songs = df['title'].unique()\n",
    "    unheard_songs = [song for song in all_songs if song not in listened_songs]\n",
    "\n",
    "    recommendations = [(song, model.predict(user_id, song).est) for song in unheard_songs]\n",
    "\n",
    "    recommendations = sorted(recommendations, key=lambda x: x[1], reverse=True)[:10]\n",
    "    \n",
    "    return recommendations"
   ]
  },
  {
   "cell_type": "markdown",
   "id": "734d34c3-7f6a-4d92-a5de-9d58b67dc63e",
   "metadata": {},
   "source": [
    "- **Test**"
   ]
  },
  {
   "cell_type": "code",
   "execution_count": 30,
   "id": "3aa63544-f61c-4527-8ff0-6033fd24f251",
   "metadata": {},
   "outputs": [
    {
     "name": "stdout",
     "output_type": "stream",
     "text": [
      "RMSE: 1.3795\n"
     ]
    },
    {
     "data": {
      "text/plain": [
       "1.379458151256937"
      ]
     },
     "execution_count": 30,
     "metadata": {},
     "output_type": "execute_result"
    }
   ],
   "source": [
    "from surprise import accuracy\n",
    "\n",
    "# Make predictions on the test set\n",
    "predictions = knn_model.test(testset)\n",
    "\n",
    "# Evaluate the model\n",
    "accuracy.rmse(predictions)"
   ]
  },
  {
   "cell_type": "code",
   "execution_count": 31,
   "id": "3c00c0eb-7e3b-4c5d-afb5-a73503cf7891",
   "metadata": {},
   "outputs": [
    {
     "name": "stdout",
     "output_type": "stream",
     "text": [
      "Collaborative Filtering Recommendations:\n",
      "Song: OMG - Estimate: 6\n",
      "Song: Imma Be - Estimate: 6\n",
      "Song: Irreplaceable - Estimate: 6\n",
      "Song: Déjame Ir - Estimate: 6\n",
      "Song: Always - Estimate: 6\n",
      "Song: Para Volver A Amar - Estimate: 6\n",
      "Song: Kansas City - Estimate: 6\n",
      "Song: Move Ya Body - Estimate: 6\n",
      "Song: Scherzo N. 1 - Estimate: 6\n",
      "Song: Undo - Estimate: 5.999999999999999\n"
     ]
    }
   ],
   "source": [
    "# User id \n",
    "user_id = '59bad0aea569a12d785e401d185f8814d128333e'\n",
    "\n",
    "# Collaborative Filtering\n",
    "collab_recommendations = collaborative_filtering_recommendation_svd(user_id, knn_model, df_0)\n",
    "\n",
    "# Show result\n",
    "print(\"Collaborative Filtering Recommendations:\")\n",
    "for recommendation in collab_recommendations: \n",
    "    print(f\"Song: {recommendation[0]} - Estimate: {recommendation[1]}\")"
   ]
  },
  {
   "cell_type": "markdown",
   "id": "035f89a4-6dc2-4b7a-89bf-032accd32c5f",
   "metadata": {},
   "source": [
    "### Content-Based Filtering (TF-IDF Vectorization)"
   ]
  },
  {
   "cell_type": "markdown",
   "id": "7d234e82-13a9-4f48-a53e-c505a36fe74a",
   "metadata": {},
   "source": [
    "- **TF-IDF Vectorization**\n",
    "    - Use TF-IDF to vectorize song text attributes such as 'title', 'release', and 'artist_name'."
   ]
  },
  {
   "cell_type": "code",
   "execution_count": 34,
   "id": "38e8c625-e2cf-41d4-ba1c-672e9bc63a18",
   "metadata": {},
   "outputs": [],
   "source": [
    "from sklearn.feature_extraction.text import TfidfVectorizer\n",
    "from sklearn.metrics.pairwise import linear_kernel\n",
    "\n",
    "tfidf_vectorizer = TfidfVectorizer(stop_words='english')\n",
    "tfidf_matrix = tfidf_vectorizer.fit_transform(df_0['title'] + ' ' + df_0['release'] + ' ' + df_0['artist_name'])\n"
   ]
  },
  {
   "cell_type": "markdown",
   "id": "a1014449-a5cf-4b72-bdcc-7241814f960d",
   "metadata": {},
   "source": [
    "- **Calculate Cosine Similarity Matrix:**\n",
    "    - Use linear_kernel to calculate cosine similarity matrix between songs."
   ]
  },
  {
   "cell_type": "code",
   "execution_count": 35,
   "id": "4df0fc5d-7708-4f25-b319-acfce8eee693",
   "metadata": {},
   "outputs": [],
   "source": [
    "cosine_similarities = linear_kernel(tfidf_matrix, tfidf_matrix)"
   ]
  },
  {
   "cell_type": "markdown",
   "id": "f07b2b20-db82-4a98-9ec9-4bc4621b0474",
   "metadata": {},
   "source": [
    "- **Recommendation function based on Content-Based Filtering**"
   ]
  },
  {
   "cell_type": "code",
   "execution_count": 46,
   "id": "8603ecfd-c7f6-4e4d-a6f7-9004436b3fe2",
   "metadata": {},
   "outputs": [],
   "source": [
    "# Recommendation function based on Content-Based Filtering\n",
    "def content_based_recommendation(user_id, song_title, df, cosine_similarities, n=5):\n",
    "    song_index = df[df['title'] == song_title].index[0]\n",
    "    similar_songs = list(enumerate(cosine_similarities[song_index]))\n",
    "    similar_songs = sorted(similar_songs, key=lambda x: x[1], reverse=True)\n",
    "    similar_songs = similar_songs[1:n+1]  \n",
    "\n",
    "    # Get index of similar songs\n",
    "    similar_songs_indices = [x[0] for x in similar_songs]\n",
    "\n",
    "    # Filter dataframe to get information of similar songs\n",
    "    recommendations = df_0.iloc[similar_songs_indices][['song', 'title', 'release', 'artist_name', 'year']]\n",
    "    \n",
    "    return recommendations"
   ]
  },
  {
   "cell_type": "markdown",
   "id": "b346d083-724e-40c6-9c58-1cc4569ce20b",
   "metadata": {},
   "source": [
    "- **Test**"
   ]
  },
  {
   "cell_type": "code",
   "execution_count": 47,
   "id": "31a48f8c-1263-4204-8116-3534188abaf8",
   "metadata": {},
   "outputs": [
    {
     "data": {
      "text/html": [
       "<div>\n",
       "<style scoped>\n",
       "    .dataframe tbody tr th:only-of-type {\n",
       "        vertical-align: middle;\n",
       "    }\n",
       "\n",
       "    .dataframe tbody tr th {\n",
       "        vertical-align: top;\n",
       "    }\n",
       "\n",
       "    .dataframe thead th {\n",
       "        text-align: right;\n",
       "    }\n",
       "</style>\n",
       "<table border=\"1\" class=\"dataframe\">\n",
       "  <thead>\n",
       "    <tr style=\"text-align: right;\">\n",
       "      <th></th>\n",
       "      <th>song</th>\n",
       "      <th>title</th>\n",
       "      <th>release</th>\n",
       "      <th>artist_name</th>\n",
       "      <th>year</th>\n",
       "    </tr>\n",
       "  </thead>\n",
       "  <tbody>\n",
       "    <tr>\n",
       "      <th>2478</th>\n",
       "      <td>SOZMJFG12AB017BDAF</td>\n",
       "      <td>Swimming In The Flood</td>\n",
       "      <td>Manners</td>\n",
       "      <td>Passion Pit</td>\n",
       "      <td>2009</td>\n",
       "    </tr>\n",
       "    <tr>\n",
       "      <th>16805</th>\n",
       "      <td>SOZMJFG12AB017BDAF</td>\n",
       "      <td>Swimming In The Flood</td>\n",
       "      <td>Manners</td>\n",
       "      <td>Passion Pit</td>\n",
       "      <td>2009</td>\n",
       "    </tr>\n",
       "    <tr>\n",
       "      <th>22195</th>\n",
       "      <td>SOZMJFG12AB017BDAF</td>\n",
       "      <td>Swimming In The Flood</td>\n",
       "      <td>Manners</td>\n",
       "      <td>Passion Pit</td>\n",
       "      <td>2009</td>\n",
       "    </tr>\n",
       "    <tr>\n",
       "      <th>97897</th>\n",
       "      <td>SOZMJFG12AB017BDAF</td>\n",
       "      <td>Swimming In The Flood</td>\n",
       "      <td>Manners</td>\n",
       "      <td>Passion Pit</td>\n",
       "      <td>2009</td>\n",
       "    </tr>\n",
       "    <tr>\n",
       "      <th>3066</th>\n",
       "      <td>SOSLQQJ12AB017BDCC</td>\n",
       "      <td>Sleepyhead</td>\n",
       "      <td>Manners</td>\n",
       "      <td>Passion Pit</td>\n",
       "      <td>2008</td>\n",
       "    </tr>\n",
       "  </tbody>\n",
       "</table>\n",
       "</div>"
      ],
      "text/plain": [
       "                     song                  title  release  artist_name  year\n",
       "2478   SOZMJFG12AB017BDAF  Swimming In The Flood  Manners  Passion Pit  2009\n",
       "16805  SOZMJFG12AB017BDAF  Swimming In The Flood  Manners  Passion Pit  2009\n",
       "22195  SOZMJFG12AB017BDAF  Swimming In The Flood  Manners  Passion Pit  2009\n",
       "97897  SOZMJFG12AB017BDAF  Swimming In The Flood  Manners  Passion Pit  2009\n",
       "3066   SOSLQQJ12AB017BDCC             Sleepyhead  Manners  Passion Pit  2008"
      ]
     },
     "execution_count": 47,
     "metadata": {},
     "output_type": "execute_result"
    }
   ],
   "source": [
    "# Ví dụ cách sử dụng hàm đề xuất\n",
    "user_id = '59bad0aea569a12d785e401d185f8814d128333e'\n",
    "song_title = 'Water Line'\n",
    "content_based_recommendations = content_based_recommendation(user_id, song_title, df, cosine_similarities)\n",
    "pd.DataFrame(content_based_recommendations)"
   ]
  },
  {
   "cell_type": "markdown",
   "id": "f1d71ae9-ca24-46a4-a6f0-16e136602ffa",
   "metadata": {},
   "source": [
    "### Hybrid Methods"
   ]
  },
  {
   "cell_type": "markdown",
   "id": "82b01ebc-40b7-42ba-b2ab-ee871acc4222",
   "metadata": {},
   "source": [
    "- **Surprise Collaborative Filtering:**\n",
    "    - **Reader và Dataset**:\n",
    "        - Create a Reader object to define your rating range and then create a Dataset from the DataFrame.\n",
    "        - train_test_split: Split data into train and test exercises.\n",
    "    - **SVD**: Collaborative Filtering model uses SVD (Singular Value Decomposition) from the Surprise library.."
   ]
  },
  {
   "cell_type": "code",
   "execution_count": 38,
   "id": "c4a38edd-a47f-41e8-9bfc-99f53306608d",
   "metadata": {},
   "outputs": [
    {
     "data": {
      "text/plain": [
       "<surprise.prediction_algorithms.matrix_factorization.SVD at 0x28aaa8190>"
      ]
     },
     "execution_count": 38,
     "metadata": {},
     "output_type": "execute_result"
    }
   ],
   "source": [
    "reader = Reader(rating_scale=(0, df_0['play_count'].max()))\n",
    "data = Dataset.load_from_df(df_0[['user', 'title', 'play_count']], reader)\n",
    "trainset, testset = train_test_split(data, test_size=0.2, random_state=42)\n",
    "cf_model = SVD()\n",
    "cf_model.fit(trainset)"
   ]
  },
  {
   "cell_type": "markdown",
   "id": "ba198d65-4185-4cac-b109-bdeabed11056",
   "metadata": {},
   "source": [
    "- **Content-Based Filtering:**\n",
    "    - TfidfVectorizer : convertit les textes en matrices TF-IDF.\n",
    "    - Linear_kernel : calcule la matrice de similarité cosinus entre les documents."
   ]
  },
  {
   "cell_type": "code",
   "execution_count": 39,
   "id": "fd449c74-e456-4aea-8a65-eeb8caa69973",
   "metadata": {},
   "outputs": [],
   "source": [
    "tfidf_vectorizer = TfidfVectorizer(stop_words='english')\n",
    "tfidf_matrix = tfidf_vectorizer.fit_transform(df_0['title'])\n",
    "cosine_sim = linear_kernel(tfidf_matrix, tfidf_matrix)"
   ]
  },
  {
   "cell_type": "markdown",
   "id": "04814a25-e34d-4682-bf0b-6645aa95803e",
   "metadata": {},
   "source": [
    "- **Function Content-Based Recommendations:**"
   ]
  },
  {
   "cell_type": "code",
   "execution_count": 48,
   "id": "e54ef8ea-ab9a-4df9-9eee-e11eab85e3c5",
   "metadata": {},
   "outputs": [],
   "source": [
    "# Function to get content-based recommendations\n",
    "def content_based_recommendations(title):\n",
    "    idx = df_0[df_0['title'] == song_title].index[0]\n",
    "    sim_scores = list(enumerate(cosine_sim[idx]))\n",
    "    sim_scores = sorted(sim_scores, key=lambda x: x[1], reverse=True)\n",
    "    sim_scores = sim_scores[1:11]\n",
    "    song_indices = [i[0] for i in sim_scores]\n",
    "    return df_0['title'].iloc[song_indices]"
   ]
  },
  {
   "cell_type": "code",
   "execution_count": 52,
   "id": "2f0ac796-c31d-4ed3-8781-0bd9685fb0ec",
   "metadata": {},
   "outputs": [],
   "source": [
    "# Hybrid Recommender System\n",
    "def hybrid_recommendations(user_id, title):\n",
    "    # Collaborative Filtering prediction\n",
    "    cf_prediction = cf_model.predict(user_id, title).est\n",
    "\n",
    "    # Content-Based Filtering recommendations\n",
    "    cb_recommendations = content_based_recommendations(title)\n",
    "\n",
    "    # Combine predictions or recommendations using some weighting or voting mechanism\n",
    "    hybrid_scores = [(cf_prediction, title) for title in cb_recommendations]\n",
    "\n",
    "    # Sort and get top k suggestions\n",
    "    hybrid_scores = sorted(hybrid_scores, key=lambda x: x[0], reverse=True)[:10]\n",
    "    return [title for (_, title) in hybrid_scores]"
   ]
  },
  {
   "cell_type": "markdown",
   "id": "e347f697-1000-4a39-906a-5b14b4412406",
   "metadata": {},
   "source": [
    "- **Test**"
   ]
  },
  {
   "cell_type": "code",
   "execution_count": 53,
   "id": "65c3d0e8-d51e-439b-b779-fa115be6822a",
   "metadata": {},
   "outputs": [
    {
     "data": {
      "text/html": [
       "<div>\n",
       "<style scoped>\n",
       "    .dataframe tbody tr th:only-of-type {\n",
       "        vertical-align: middle;\n",
       "    }\n",
       "\n",
       "    .dataframe tbody tr th {\n",
       "        vertical-align: top;\n",
       "    }\n",
       "\n",
       "    .dataframe thead th {\n",
       "        text-align: right;\n",
       "    }\n",
       "</style>\n",
       "<table border=\"1\" class=\"dataframe\">\n",
       "  <thead>\n",
       "    <tr style=\"text-align: right;\">\n",
       "      <th></th>\n",
       "      <th>0</th>\n",
       "    </tr>\n",
       "  </thead>\n",
       "  <tbody>\n",
       "    <tr>\n",
       "      <th>0</th>\n",
       "      <td>Swimming In The Flood</td>\n",
       "    </tr>\n",
       "    <tr>\n",
       "      <th>1</th>\n",
       "      <td>Swimming In The Flood</td>\n",
       "    </tr>\n",
       "    <tr>\n",
       "      <th>2</th>\n",
       "      <td>Swimming In The Flood</td>\n",
       "    </tr>\n",
       "    <tr>\n",
       "      <th>3</th>\n",
       "      <td>Swimming In The Flood</td>\n",
       "    </tr>\n",
       "    <tr>\n",
       "      <th>4</th>\n",
       "      <td>The Flood</td>\n",
       "    </tr>\n",
       "    <tr>\n",
       "      <th>5</th>\n",
       "      <td>The Flood</td>\n",
       "    </tr>\n",
       "    <tr>\n",
       "      <th>6</th>\n",
       "      <td>Like Swimming</td>\n",
       "    </tr>\n",
       "    <tr>\n",
       "      <th>7</th>\n",
       "      <td>Like Swimming</td>\n",
       "    </tr>\n",
       "    <tr>\n",
       "      <th>8</th>\n",
       "      <td>Like Swimming</td>\n",
       "    </tr>\n",
       "    <tr>\n",
       "      <th>9</th>\n",
       "      <td>Mind Flood</td>\n",
       "    </tr>\n",
       "  </tbody>\n",
       "</table>\n",
       "</div>"
      ],
      "text/plain": [
       "                       0\n",
       "0  Swimming In The Flood\n",
       "1  Swimming In The Flood\n",
       "2  Swimming In The Flood\n",
       "3  Swimming In The Flood\n",
       "4              The Flood\n",
       "5              The Flood\n",
       "6          Like Swimming\n",
       "7          Like Swimming\n",
       "8          Like Swimming\n",
       "9             Mind Flood"
      ]
     },
     "execution_count": 53,
     "metadata": {},
     "output_type": "execute_result"
    }
   ],
   "source": [
    "# Example usage\n",
    "user_id = '59bad0aea569a12d785e401d185f8814d128333e'\n",
    "title = 'Water Line'\n",
    "recommendations = hybrid_recommendations(user_id, title)\n",
    "pd.DataFrame(recommendations)"
   ]
  },
  {
   "cell_type": "markdown",
   "id": "d5f97233-c0ff-448a-966d-2bdf80970521",
   "metadata": {},
   "source": [
    "## Use Case 2: Using imputation processing value 0 in column year\n",
    "\n",
    "- Replace the value 0 with the median value of the \"year\" column"
   ]
  },
  {
   "cell_type": "code",
   "execution_count": 59,
   "id": "7163f5b2-c202-46e0-87ee-374de3cefa17",
   "metadata": {},
   "outputs": [],
   "source": [
    "df_year = df_song.copy()\n",
    "median_year = df_year['year'].median()\n",
    "df_year['year'] = df_year['year'].replace(0, median_year)"
   ]
  },
  {
   "cell_type": "code",
   "execution_count": 60,
   "id": "9d4d274f-f0fd-477e-8ae7-6d9c1a36f1af",
   "metadata": {},
   "outputs": [
    {
     "name": "stdout",
     "output_type": "stream",
     "text": [
      "Shape of the dataset: 93099 rows - 7 columns\n"
     ]
    }
   ],
   "source": [
    "print(f\"Shape of the dataset: {df_year.shape[0]} rows - {df_year.shape[1]} columns\")"
   ]
  },
  {
   "cell_type": "markdown",
   "id": "7e77f33f-960a-4b5d-8268-54fbaa9546c2",
   "metadata": {},
   "source": [
    "## Exploratory Data Analysis\n",
    "- What are the most listened songs?\n",
    "- Who are the most popular artists?\n",
    "- How is the distribution of song count for users?\n",
    "\n",
    "### What are the most listened songs?"
   ]
  },
  {
   "cell_type": "code",
   "execution_count": 65,
   "id": "a3783bf7-f8bf-48f1-b2b3-679ca1a6d674",
   "metadata": {},
   "outputs": [
    {
     "name": "stdout",
     "output_type": "stream",
     "text": [
      "Top 10 most listened songs with total listen count:\n"
     ]
    },
    {
     "data": {
      "text/html": [
       "<div>\n",
       "<style scoped>\n",
       "    .dataframe tbody tr th:only-of-type {\n",
       "        vertical-align: middle;\n",
       "    }\n",
       "\n",
       "    .dataframe tbody tr th {\n",
       "        vertical-align: top;\n",
       "    }\n",
       "\n",
       "    .dataframe thead th {\n",
       "        text-align: right;\n",
       "    }\n",
       "</style>\n",
       "<table border=\"1\" class=\"dataframe\">\n",
       "  <thead>\n",
       "    <tr style=\"text-align: right;\">\n",
       "      <th></th>\n",
       "      <th>play_count</th>\n",
       "    </tr>\n",
       "    <tr>\n",
       "      <th>title</th>\n",
       "      <th></th>\n",
       "    </tr>\n",
       "  </thead>\n",
       "  <tbody>\n",
       "    <tr>\n",
       "      <th>Sehr kosmisch</th>\n",
       "      <td>417</td>\n",
       "    </tr>\n",
       "    <tr>\n",
       "      <th>Dog Days Are Over (Radio Edit)</th>\n",
       "      <td>348</td>\n",
       "    </tr>\n",
       "    <tr>\n",
       "      <th>Use Somebody</th>\n",
       "      <td>340</td>\n",
       "    </tr>\n",
       "    <tr>\n",
       "      <th>Undo</th>\n",
       "      <td>333</td>\n",
       "    </tr>\n",
       "    <tr>\n",
       "      <th>Secrets</th>\n",
       "      <td>320</td>\n",
       "    </tr>\n",
       "    <tr>\n",
       "      <th>You're The One</th>\n",
       "      <td>316</td>\n",
       "    </tr>\n",
       "    <tr>\n",
       "      <th>Somebody To Love</th>\n",
       "      <td>293</td>\n",
       "    </tr>\n",
       "    <tr>\n",
       "      <th>Yellow</th>\n",
       "      <td>286</td>\n",
       "    </tr>\n",
       "    <tr>\n",
       "      <th>Revelry</th>\n",
       "      <td>281</td>\n",
       "    </tr>\n",
       "    <tr>\n",
       "      <th>Love Story</th>\n",
       "      <td>268</td>\n",
       "    </tr>\n",
       "  </tbody>\n",
       "</table>\n",
       "</div>"
      ],
      "text/plain": [
       "                                play_count\n",
       "title                                     \n",
       "Sehr kosmisch                          417\n",
       "Dog Days Are Over (Radio Edit)         348\n",
       "Use Somebody                           340\n",
       "Undo                                   333\n",
       "Secrets                                320\n",
       "You're The One                         316\n",
       "Somebody To Love                       293\n",
       "Yellow                                 286\n",
       "Revelry                                281\n",
       "Love Story                             268"
      ]
     },
     "execution_count": 65,
     "metadata": {},
     "output_type": "execute_result"
    }
   ],
   "source": [
    "# Calculate the total number of listens for each song\n",
    "total_listen_count_year = df_year.groupby('title')['play_count'].sum()\n",
    "\n",
    "# sorted by total number of listens in descending order\n",
    "most_listened_songs_year = total_listen_count_year.sort_values(ascending=False)\n",
    "\n",
    "# Displays the 10 most listened to songs\n",
    "top_10_songs_year = pd.DataFrame(most_listened_songs_year.nlargest(10))\n",
    "\n",
    "# Show result\n",
    "print(\"Top 10 most listened songs with total listen count:\")\n",
    "top_10_songs_year"
   ]
  },
  {
   "cell_type": "markdown",
   "id": "d9b0c16a-1f98-4cd0-8f97-196b275ffe6d",
   "metadata": {},
   "source": [
    "### Who are the most popular artists"
   ]
  },
  {
   "cell_type": "code",
   "execution_count": 67,
   "id": "81d6cbec-14e8-4705-8f7c-ef0217811939",
   "metadata": {},
   "outputs": [
    {
     "data": {
      "text/html": [
       "<div>\n",
       "<style scoped>\n",
       "    .dataframe tbody tr th:only-of-type {\n",
       "        vertical-align: middle;\n",
       "    }\n",
       "\n",
       "    .dataframe tbody tr th {\n",
       "        vertical-align: top;\n",
       "    }\n",
       "\n",
       "    .dataframe thead th {\n",
       "        text-align: right;\n",
       "    }\n",
       "</style>\n",
       "<table border=\"1\" class=\"dataframe\">\n",
       "  <thead>\n",
       "    <tr style=\"text-align: right;\">\n",
       "      <th></th>\n",
       "      <th>play_count</th>\n",
       "    </tr>\n",
       "    <tr>\n",
       "      <th>artist_name</th>\n",
       "      <th></th>\n",
       "    </tr>\n",
       "  </thead>\n",
       "  <tbody>\n",
       "    <tr>\n",
       "      <th>Coldplay</th>\n",
       "      <td>1376</td>\n",
       "    </tr>\n",
       "    <tr>\n",
       "      <th>The Black Keys</th>\n",
       "      <td>1153</td>\n",
       "    </tr>\n",
       "    <tr>\n",
       "      <th>Kings Of Leon</th>\n",
       "      <td>966</td>\n",
       "    </tr>\n",
       "    <tr>\n",
       "      <th>Florence + The Machine</th>\n",
       "      <td>870</td>\n",
       "    </tr>\n",
       "    <tr>\n",
       "      <th>Eminem</th>\n",
       "      <td>840</td>\n",
       "    </tr>\n",
       "    <tr>\n",
       "      <th>Justin Bieber</th>\n",
       "      <td>774</td>\n",
       "    </tr>\n",
       "    <tr>\n",
       "      <th>Jack Johnson</th>\n",
       "      <td>764</td>\n",
       "    </tr>\n",
       "    <tr>\n",
       "      <th>Muse</th>\n",
       "      <td>664</td>\n",
       "    </tr>\n",
       "    <tr>\n",
       "      <th>Daft Punk</th>\n",
       "      <td>651</td>\n",
       "    </tr>\n",
       "    <tr>\n",
       "      <th>Radiohead</th>\n",
       "      <td>647</td>\n",
       "    </tr>\n",
       "  </tbody>\n",
       "</table>\n",
       "</div>"
      ],
      "text/plain": [
       "                        play_count\n",
       "artist_name                       \n",
       "Coldplay                      1376\n",
       "The Black Keys                1153\n",
       "Kings Of Leon                  966\n",
       "Florence + The Machine         870\n",
       "Eminem                         840\n",
       "Justin Bieber                  774\n",
       "Jack Johnson                   764\n",
       "Muse                           664\n",
       "Daft Punk                      651\n",
       "Radiohead                      647"
      ]
     },
     "execution_count": 67,
     "metadata": {},
     "output_type": "execute_result"
    }
   ],
   "source": [
    "# the total number of listens for each artist\n",
    "total_listen_count_by_artist_year = df_year.groupby('artist_name')['play_count'].sum()\n",
    "\n",
    "# Sort by total number of listens in descending order\n",
    "most_popular_artists_year = total_listen_count_by_artist_year.sort_values(ascending=False)\n",
    "\n",
    "# Showing the 10 most popular artists\n",
    "top_10_artists_year = pd.DataFrame(most_popular_artists_year.head(10))\n",
    "\n",
    "# Display result \n",
    "top_10_artists_year"
   ]
  },
  {
   "cell_type": "markdown",
   "id": "2b58307f-78e4-4f15-a4ca-b30bc4a1b545",
   "metadata": {},
   "source": [
    "### How is the distribution of song count for users?"
   ]
  },
  {
   "cell_type": "code",
   "execution_count": 68,
   "id": "9c114103-2271-4981-8cbc-5c46437368cf",
   "metadata": {},
   "outputs": [
    {
     "data": {
      "image/png": "[encoded data removed]",
      "text/plain": [
       "<Figure size 1000x600 with 1 Axes>"
      ]
     },
     "metadata": {},
     "output_type": "display_data"
    }
   ],
   "source": [
    "# Get the number of songs for each user\n",
    "song_count_per_user_year = df_year.groupby('user')['song'].count()\n",
    "\n",
    "# plot distribution\n",
    "plt.figure(figsize=(10, 6))\n",
    "plt.hist(song_count_per_user_year, bins=50, color='green', edgecolor='black')\n",
    "plt.title('Distribution of Song Count for Users')\n",
    "plt.xlabel('Number of Songs')\n",
    "plt.ylabel('Number of Users')\n",
    "plt.grid(True)\n",
    "plt.show()"
   ]
  },
  {
   "cell_type": "markdown",
   "id": "bfd4abd0-05a5-4beb-9680-37e6f80672ea",
   "metadata": {},
   "source": [
    "## Implement a recommendation engine\n",
    "\n",
    "\n",
    "-   Implement a recommendation engine which takes as input a user in the database and recommends one (or multiple) song(s) he has not listened to yet"
   ]
  },
  {
   "cell_type": "markdown",
   "id": "0811b06b-b380-47d1-a053-a337a0375519",
   "metadata": {},
   "source": [
    "### Use the SVD (Singular Value Decomposition) method in Surprise \n"
   ]
  },
  {
   "cell_type": "code",
   "execution_count": 72,
   "id": "78a4e146-5f84-4439-93d2-c332e97f3bc1",
   "metadata": {},
   "outputs": [
    {
     "name": "stdout",
     "output_type": "stream",
     "text": [
      "Collaborative Filtering Recommendations:\n",
      "Song: The Big Gundown - Estimate: 3.207087494192188\n",
      "Song: Un Dia Gris - Estimate: 2.9533952631127858\n",
      "Song: Esperame - Estimate: 2.8521043245029847\n",
      "Song: Too Afraid To Love - Estimate: 2.8281788881109593\n",
      "Song: Mercy:The Laundromat - Estimate: 2.8258489224555996\n",
      "Song: Strani Amori - Estimate: 2.7913393395347788\n",
      "Song: Greece 2000 - Estimate: 2.7355150702065707\n",
      "Song: Horizon Variations - Estimate: 2.7120653655460734\n",
      "Song: Through The Fire And Flames (Album Version) - Estimate: 2.711423435643931\n",
      "Song: Tell Me Why - Estimate: 2.6909896465373295\n"
     ]
    }
   ],
   "source": [
    "from surprise import Dataset, Reader, SVD\n",
    "from surprise.model_selection import train_test_split\n",
    "\n",
    "# Create a Reader object to define the play_count range\n",
    "reader_1 = Reader(rating_scale=(0, df_year['play_count'].max()))\n",
    "\n",
    "# Create a dataset from song_df dataframe\n",
    "data_1 = Dataset.load_from_df(df_year[['user', 'title', 'play_count']], reader_1)\n",
    "\n",
    "# Divide the data into training set and test set\n",
    "trainset_1, testset_1 = train_test_split(data_1, test_size=0.2, random_state=42)\n",
    "\n",
    "# Collaborative Filtering using SVD\n",
    "svd_model_1 = SVD()\n",
    "svd_model_1.fit(trainset_1)\n",
    "\n",
    "# A recommendation function using Collaborative Filtering with SVD\n",
    "def collaborative_filtering_recommendation_svd(user_id, model, df):\n",
    "    listened_songs = df[df['user'] == user_id]['title'].tolist()\n",
    "\n",
    "    all_songs = df['title'].unique()\n",
    "    unheard_songs = [song for song in all_songs if song not in listened_songs]\n",
    "\n",
    "    recommendations = [(song, model.predict(user_id, song).est) for song in unheard_songs]\n",
    "\n",
    "    recommendations = sorted(recommendations, key=lambda x: x[1], reverse=True)[:10]\n",
    "    \n",
    "    return recommendations\n",
    "\n",
    "# Test\n",
    "# User id \n",
    "user_id = '59bad0aea569a12d785e401d185f8814d128333e'\n",
    "\n",
    "# Collaborative Filtering\n",
    "collab_recommendations_1 = collaborative_filtering_recommendation_svd(user_id, svd_model_1, df_year)\n",
    "\n",
    "# Show result\n",
    "print(\"Collaborative Filtering Recommendations:\")\n",
    "for recommendation in collab_recommendations_1: \n",
    "    print(f\"Song: {recommendation[0]} - Estimate: {recommendation[1]}\")"
   ]
  },
  {
   "cell_type": "markdown",
   "id": "266d554d-f301-4c65-923e-cced1ac5334a",
   "metadata": {},
   "source": [
    "- The result when we removed value year=0\n",
    "    - Collaborative Filtering Recommendations:\n",
    "    - Song: The Big Gundown - Estimate: 2.9684752299996573\n",
    "    - Song: Un Dia Gris - Estimate: 2.7983779495840135\n",
    "    - Song: Ella Me Levanto - Estimate: 2.6943502425213834\n",
    "    - Song: Youth Against Fascism - Estimate: 2.679681592770422\n",
    "    - Song: Every Lasting Light - Estimate: 2.675231468934992\n",
    "    - Song: Too Afraid To Love - Estimate: 2.664183762554492\n",
    "    - Song: When The Stars Go Blue - Estimate: 2.6123921156031376\n",
    "    - Song: Billy (Album Version) - Estimate: 2.606998837363834\n",
    "    - Song: Recruiting Soldiers (2002 Digital Remaster) - Estimate: 2.589893238699174\n",
    "    - Song: Guerrilla Monsoon Rap - Estimate: 2.5776616453262293"
   ]
  },
  {
   "cell_type": "code",
   "execution_count": 73,
   "id": "e424fec2-0903-41dc-b13b-a8d6b7ed5156",
   "metadata": {},
   "outputs": [
    {
     "name": "stdout",
     "output_type": "stream",
     "text": [
      "RMSE: 1.1952\n"
     ]
    },
    {
     "data": {
      "text/plain": [
       "1.1951817564063523"
      ]
     },
     "execution_count": 73,
     "metadata": {},
     "output_type": "execute_result"
    }
   ],
   "source": [
    "from surprise import accuracy\n",
    "\n",
    "# Make predictions on the test set\n",
    "predictions_1 = svd_model_1.test(testset_1)\n",
    "\n",
    "# Evaluate the model\n",
    "accuracy.rmse(predictions_1)"
   ]
  }
 ],
 "metadata": {
  "kernelspec": {
   "display_name": "Python 3 (ipykernel)",
   "language": "python",
   "name": "python3"
  },
  "language_info": {
   "codemirror_mode": {
    "name": "ipython",
    "version": 3
   },
   "file_extension": ".py",
   "mimetype": "text/x-python",
   "name": "python",
   "nbconvert_exporter": "python",
   "pygments_lexer": "ipython3",
   "version": "3.10.5"
  }
 },
 "nbformat": 4,
 "nbformat_minor": 5
}
